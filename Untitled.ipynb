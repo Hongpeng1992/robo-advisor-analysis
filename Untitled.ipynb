{
 "cells": [
  {
   "cell_type": "code",
   "execution_count": 16,
   "metadata": {
    "collapsed": false,
    "deletable": true,
    "editable": true
   },
   "outputs": [
    {
     "data": {
      "text/plain": [
       "Date\n",
       "2014-01-02    2.14640\n",
       "2014-01-03    2.16867\n",
       "2014-01-06    2.17490\n",
       "2014-01-07    2.16958\n",
       "2014-01-08    2.16597\n",
       "2014-01-09    2.18347\n",
       "2014-01-10    2.17697\n",
       "2014-01-13    2.16375\n",
       "2014-01-14    2.17843\n",
       "2014-01-15    2.18197\n",
       "2014-01-16    2.18907\n",
       "2014-01-17    2.20627\n",
       "2014-01-20    2.23327\n",
       "2014-01-21    2.23867\n",
       "2014-01-22    2.25127\n",
       "2014-01-23    2.25827\n",
       "2014-01-24    2.29027\n",
       "2014-01-27    2.32977\n",
       "2014-01-28    2.27977\n",
       "2014-01-29    2.18577\n",
       "2014-01-30    2.25936\n",
       "2014-01-31    2.26375\n",
       "2014-02-03    2.25987\n",
       "2014-02-04    2.27652\n",
       "2014-02-05    2.23590\n",
       "2014-02-06    2.23655\n",
       "2014-02-07    2.20747\n",
       "2014-02-10    2.21823\n",
       "2014-02-11    2.21157\n",
       "2014-02-12    2.19199\n",
       "               ...   \n",
       "2017-01-13    3.76341\n",
       "2017-01-16    3.73778\n",
       "2017-01-17    3.80603\n",
       "2017-01-18    3.76080\n",
       "2017-01-19    3.80657\n",
       "2017-01-20    3.82700\n",
       "2017-01-23    3.76543\n",
       "2017-01-24    3.75450\n",
       "2017-01-25    3.78191\n",
       "2017-01-26    3.83340\n",
       "2017-01-27    3.85980\n",
       "2017-01-30    3.86800\n",
       "2017-01-31    3.77619\n",
       "2017-02-01    3.77250\n",
       "2017-02-02    3.77156\n",
       "2017-02-03    3.73451\n",
       "2017-02-06    3.70083\n",
       "2017-02-07    3.68700\n",
       "2017-02-08    3.74069\n",
       "2017-02-09    3.71050\n",
       "2017-02-10    3.68420\n",
       "2017-02-13    3.68602\n",
       "2017-02-14    3.67070\n",
       "2017-02-15    3.65190\n",
       "2017-02-16    3.65588\n",
       "2017-02-17    3.66740\n",
       "2017-02-20    3.63060\n",
       "2017-02-21    3.62344\n",
       "2017-02-22    3.62523\n",
       "2017-02-23    3.58250\n",
       "Name: Adj Close, dtype: float64"
      ]
     },
     "execution_count": 16,
     "metadata": {},
     "output_type": "execute_result"
    }
   ],
   "source": [
    "import os.path\n",
    "import pandas as pd\n",
    "import pandas_datareader.data as web\n",
    "import requests\n",
    "from datetime import datetime\n",
    "from datetime import timedelta\n",
    "import matplotlib\n",
    "import matplotlib.pyplot as plt\n",
    "import pyfolio as pf\n",
    "\n",
    "\n",
    "now = datetime.now()\n",
    "start = datetime.strptime(\"01-02-2014\", \"%m-%d-%Y\")\n",
    "eur = web.DataReader('TRY=X','yahoo', starzt, now)['Adj Close']\n",
    "eur"
   ]
  },
  {
   "cell_type": "code",
   "execution_count": null,
   "metadata": {
    "collapsed": true,
    "deletable": true,
    "editable": true
   },
   "outputs": [],
   "source": []
  }
 ],
 "metadata": {
  "kernelspec": {
   "display_name": "Python 2",
   "language": "python",
   "name": "python2"
  },
  "language_info": {
   "codemirror_mode": {
    "name": "ipython",
    "version": 2
   },
   "file_extension": ".py",
   "mimetype": "text/x-python",
   "name": "python",
   "nbconvert_exporter": "python",
   "pygments_lexer": "ipython2",
   "version": "2.7.10"
  }
 },
 "nbformat": 4,
 "nbformat_minor": 2
}
