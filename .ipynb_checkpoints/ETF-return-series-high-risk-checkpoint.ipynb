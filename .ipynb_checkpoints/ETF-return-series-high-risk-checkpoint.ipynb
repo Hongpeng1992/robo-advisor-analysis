{
 "cells": [
  {
   "cell_type": "code",
   "execution_count": 12,
   "metadata": {
    "collapsed": false,
    "deletable": true,
    "editable": true,
    "scrolled": true
   },
   "outputs": [
    {
     "name": "stdout",
     "output_type": "stream",
     "text": [
      "Starting money:10000\n",
      "Montly investment:0\n",
      "Number of stocks:1\n",
      "Name of the stock:SPY\n",
      "Stock percentage:1\n"
     ]
    }
   ],
   "source": [
    "import os.path\n",
    "import pandas as pd\n",
    "import pandas_datareader.data as web\n",
    "import requests\n",
    "from datetime import datetime\n",
    "from datetime import timedelta\n",
    "import matplotlib\n",
    "import matplotlib.pyplot as plt\n",
    "import pyfolio as pf\n",
    "\n",
    "\n",
    "now = datetime.now()\n",
    "start = datetime.strptime(\"01-04-2010\", \"%m-%d-%Y\")\n",
    "##base_url = 'http://ws.spk.gov.tr/PortfolioValues/api/PortfoyDegerleri/'\n",
    "\n",
    "portfolio = pd.DataFrame({'Name': [],'Number': [],'Price': []})\n",
    "backtrack = pd.DataFrame(index=pd.date_range(start, now, dtype='datetime64[ns]'), columns = ['MarketValue', 'Cost', 'ReturnSeries'])\n",
    "backtrack = backtrack.fillna(0)\n",
    "money = int(raw_input(\"Starting money:\"))\n",
    "monthly_money = int(raw_input(\"Montly investment:\"))\n",
    "#Stock code list and their percentages.\n",
    "code_list = []\n",
    "code_list_perc = []\n",
    "number_of_inputs = int(raw_input(\"Number of stocks:\"))\n",
    "\n",
    "\n",
    "for i in range(0,number_of_inputs):\n",
    "    #Stock name and percentages\n",
    "    stock_name = str(raw_input(\"Name of the stock:\"))\n",
    "    stock_percentage = float(raw_input(\"Stock percentage:\"))\n",
    "    code_list.append(stock_name)\n",
    "    code_list_perc.append(stock_percentage)\n",
    "    #Getting the initial stock variables.\n",
    "    ##resp = requests.get(base_url + stock_name + \"/2/\" + \"01-02-2014/01-02-2014\")\n",
    "    resp = web.DataReader(stock_name, 'yahoo', start, start)['Adj Close']\n",
    "    for item in resp.iteritems():\n",
    "        number_of_stocks = (stock_percentage * money) / item[1]\n",
    "        s = pd.Series([stock_name, number_of_stocks, item[1]], index = ['Name', 'Number', 'Price'])\n",
    "    portfolio = portfolio.append(s, ignore_index=True)\n"
   ]
  },
  {
   "cell_type": "code",
   "execution_count": 13,
   "metadata": {
    "collapsed": false,
    "deletable": true,
    "editable": true
   },
   "outputs": [],
   "source": [
    "\n",
    "portfolio['Value'] = portfolio.Number * portfolio.Price\n",
    "#Determining the initial backtrack positions.\n",
    "backtrack.ix[start, 'MarketValue'] = portfolio['Value'].sum()\n",
    "backtrack.ix[start, 'Cost'] = portfolio['Value'].sum()\n",
    "start = start + timedelta(days=1)\n",
    "i = 0\n",
    "for stock in code_list:\n",
    "    ##start_date = datetime.strftime(start, '%m-%d-%Y')\n",
    "    ##end_date = datetime.strftime(now, '%m-%d-%Y')\n",
    "    ##second_base_url = base_url + stock + \"/2/\" + start_date + \"/\" + end_date\n",
    "    ##response = requests.get(second_base_url, timeout=None)\n",
    "    response = web.DataReader(stock, 'yahoo', start, now)['Adj Close']\n",
    "    #Calculating the money for certain stock.\n",
    "    money_for_stock = money * code_list_perc[i]\n",
    "    stock_month = 1\n",
    "    for item in response.iteritems():\n",
    "        date_string = str(item[0]).split(\" \")[0]\n",
    "        my_date = datetime.strptime(date_string, \"%Y-%m-%d\")\n",
    "        portfolio.ix[i,'Price'] = item[1]\n",
    "        backtrack.ix[my_date, 'MarketValue'] += portfolio.ix[i,'Number'] * portfolio.ix[i,'Price']\n",
    "        backtrack.ix[my_date, 'Cost'] += money_for_stock\n",
    "        back_date = my_date - timedelta(days=1)\n",
    "        while (backtrack.ix[back_date, 'MarketValue'] == 0):\n",
    "            back_date = back_date - timedelta(days=1)\n",
    "        backtrack.ix[my_date, 'ReturnSeries'] = (backtrack.ix[my_date, 'MarketValue'] /\n",
    "        (backtrack.ix[back_date, 'MarketValue'] +\n",
    "        (backtrack.ix[my_date, 'Cost'] - backtrack.ix[back_date, 'Cost']))) - 1\n",
    "        #Doing the montly investment.\n",
    "        if (my_date.month != stock_month):\n",
    "            money_for_stock += monthly_money * code_list_perc[i]\n",
    "            stock_month += 1\n",
    "            if stock_month == 13 : stock_month = 1\n",
    "            portfolio.ix[i,'Number'] += (monthly_money * code_list_perc[i]) / item[1]\n",
    "    #Increasing i for the next stocks percentage.\n",
    "    i += 1\n",
    "\n",
    "\n",
    "\n",
    "\n",
    "backtrack = backtrack[backtrack.MarketValue != 0]\n",
    "plt.plot(backtrack['ReturnSeries'])\n",
    "plt.savefig('x.png')\n",
    "new = backtrack['ReturnSeries']\n",
    "new = new.tz_localize('utc')\n"
   ]
  },
  {
   "cell_type": "code",
   "execution_count": 14,
   "metadata": {
    "collapsed": false,
    "deletable": true,
    "editable": true
   },
   "outputs": [
    {
     "data": {
      "text/html": [
       "<div>\n",
       "<table border=\"1\" class=\"dataframe\">\n",
       "  <thead>\n",
       "    <tr style=\"text-align: right;\">\n",
       "      <th></th>\n",
       "      <th>Name</th>\n",
       "      <th>Number</th>\n",
       "      <th>Price</th>\n",
       "      <th>Value</th>\n",
       "    </tr>\n",
       "  </thead>\n",
       "  <tbody>\n",
       "    <tr>\n",
       "      <th>0</th>\n",
       "      <td>SPY</td>\n",
       "      <td>101.818093</td>\n",
       "      <td>238.270004</td>\n",
       "      <td>10000.0</td>\n",
       "    </tr>\n",
       "  </tbody>\n",
       "</table>\n",
       "</div>"
      ],
      "text/plain": [
       "  Name      Number       Price    Value\n",
       "0  SPY  101.818093  238.270004  10000.0"
      ]
     },
     "execution_count": 14,
     "metadata": {},
     "output_type": "execute_result"
    }
   ],
   "source": [
    "portfolio"
   ]
  },
  {
   "cell_type": "code",
   "execution_count": 15,
   "metadata": {
    "collapsed": false,
    "deletable": true,
    "editable": true
   },
   "outputs": [],
   "source": [
    "\n",
    "new = backtrack['ReturnSeries']\n",
    "plt.plot(new)\n",
    "plt.savefig('x.png')\n",
    "\n",
    "new.to_csv('atk.csv')\n",
    "new = new.tz_localize('utc')"
   ]
  },
  {
   "cell_type": "code",
   "execution_count": 16,
   "metadata": {
    "collapsed": false,
    "deletable": true,
    "editable": true
   },
   "outputs": [
    {
     "data": {
      "image/png": "[encoded data removed]",
      "text/plain": [
       "<matplotlib.figure.Figure at 0x1086b2650>"
      ]
     },
     "metadata": {},
     "output_type": "display_data"
    }
   ],
   "source": [
    "plt.plot(backtrack['MarketValue'])\n",
    "plt.show()"
   ]
  },
  {
   "cell_type": "code",
   "execution_count": null,
   "metadata": {
    "collapsed": false,
    "deletable": true,
    "editable": true,
    "scrolled": false
   },
   "outputs": [
    {
     "name": "stdout",
     "output_type": "stream",
     "text": [
      "Entire data start date: 2010-01-04\n",
      "Entire data end date: 2017-03-02\n",
      "\n",
      "\n",
      "Backtest Months: 85\n"
     ]
    },
    {
     "name": "stderr",
     "output_type": "stream",
     "text": [
      "/Users/unstblecrsr/Documents/miksinvest/venv/lib/python2.7/site-packages/empyrical/stats.py:152: RuntimeWarning: overflow encountered in multiply\n",
      "  return df_cum * starting_value\n",
      "/Users/unstblecrsr/Documents/miksinvest/venv/lib/python2.7/site-packages/empyrical/stats.py:534: RuntimeWarning: divide by zero encountered in double_scalars\n",
      "  sortino = mu / dsr\n"
     ]
    },
    {
     "data": {
      "text/html": [
       "<div>\n",
       "<table border=\"1\" class=\"dataframe\">\n",
       "  <thead>\n",
       "    <tr style=\"text-align: right;\">\n",
       "      <th>Performance statistics</th>\n",
       "      <th>Backtest</th>\n",
       "    </tr>\n",
       "  </thead>\n",
       "  <tbody>\n",
       "    <tr>\n",
       "      <th>annual_return</th>\n",
       "      <td>inf</td>\n",
       "    </tr>\n",
       "    <tr>\n",
       "      <th>cum_returns_final</th>\n",
       "      <td>inf</td>\n",
       "    </tr>\n",
       "    <tr>\n",
       "      <th>annual_volatility</th>\n",
       "      <td>67412.08</td>\n",
       "    </tr>\n",
       "    <tr>\n",
       "      <th>sharpe_ratio</th>\n",
       "      <td>59.43</td>\n",
       "    </tr>\n",
       "    <tr>\n",
       "      <th>calmar_ratio</th>\n",
       "      <td>nan</td>\n",
       "    </tr>\n",
       "    <tr>\n",
       "      <th>stability_of_timeseries</th>\n",
       "      <td>1.00</td>\n",
       "    </tr>\n",
       "    <tr>\n",
       "      <th>max_drawdown</th>\n",
       "      <td>0.00</td>\n",
       "    </tr>\n",
       "    <tr>\n",
       "      <th>omega_ratio</th>\n",
       "      <td>nan</td>\n",
       "    </tr>\n",
       "    <tr>\n",
       "      <th>sortino_ratio</th>\n",
       "      <td>inf</td>\n",
       "    </tr>\n",
       "    <tr>\n",
       "      <th>skew</th>\n",
       "      <td>0.05</td>\n",
       "    </tr>\n",
       "    <tr>\n",
       "      <th>kurtosis</th>\n",
       "      <td>-1.45</td>\n",
       "    </tr>\n",
       "    <tr>\n",
       "      <th>tail_ratio</th>\n",
       "      <td>2.22</td>\n",
       "    </tr>\n",
       "    <tr>\n",
       "      <th>common_sense_ratio</th>\n",
       "      <td>inf</td>\n",
       "    </tr>\n",
       "    <tr>\n",
       "      <th>information_ratio</th>\n",
       "      <td>3.74</td>\n",
       "    </tr>\n",
       "    <tr>\n",
       "      <th>alpha</th>\n",
       "      <td>4005583.76</td>\n",
       "    </tr>\n",
       "    <tr>\n",
       "      <th>beta</th>\n",
       "      <td>6593.28</td>\n",
       "    </tr>\n",
       "  </tbody>\n",
       "</table>\n",
       "</div>"
      ],
      "text/plain": [
       "Performance statistics    Backtest\n",
       "annual_return                  inf\n",
       "cum_returns_final              inf\n",
       "annual_volatility         67412.08\n",
       "sharpe_ratio                 59.43\n",
       "calmar_ratio                   nan\n",
       "stability_of_timeseries       1.00\n",
       "max_drawdown                  0.00\n",
       "omega_ratio                    nan\n",
       "sortino_ratio                  inf\n",
       "skew                          0.05\n",
       "kurtosis                     -1.45\n",
       "tail_ratio                    2.22\n",
       "common_sense_ratio             inf\n",
       "information_ratio             3.74\n",
       "alpha                   4005583.76\n",
       "beta                       6593.28"
      ]
     },
     "metadata": {},
     "output_type": "display_data"
    },
    {
     "name": "stderr",
     "output_type": "stream",
     "text": [
      "/Users/unstblecrsr/Documents/miksinvest/venv/lib/python2.7/site-packages/matplotlib/axes/_base.py:2309: RuntimeWarning: overflow encountered in double_scalars\n",
      "  x1t += delta\n",
      "/Users/unstblecrsr/Documents/miksinvest/venv/lib/python2.7/site-packages/numpy/ma/core.py:6473: RuntimeWarning: overflow encountered in power\n",
      "  result = np.where(m, fa, umath.power(fa, fb)).view(basetype)\n"
     ]
    }
   ],
   "source": [
    "pf.create_returns_tear_sheet(new)"
   ]
  },
  {
   "cell_type": "code",
   "execution_count": null,
   "metadata": {
    "collapsed": true,
    "deletable": true,
    "editable": true
   },
   "outputs": [],
   "source": []
  },
  {
   "cell_type": "code",
   "execution_count": null,
   "metadata": {
    "collapsed": true,
    "deletable": true,
    "editable": true
   },
   "outputs": [],
   "source": []
  },
  {
   "cell_type": "code",
   "execution_count": 2,
   "metadata": {
    "collapsed": false,
    "deletable": true,
    "editable": true
   },
   "outputs": [
    {
     "data": {
      "text/html": [
       "<div>\n",
       "<table border=\"1\" class=\"dataframe\">\n",
       "  <thead>\n",
       "    <tr style=\"text-align: right;\">\n",
       "      <th></th>\n",
       "      <th>Name</th>\n",
       "      <th>Number</th>\n",
       "      <th>Price</th>\n",
       "    </tr>\n",
       "  </thead>\n",
       "  <tbody>\n",
       "    <tr>\n",
       "      <th>0</th>\n",
       "      <td>VTI</td>\n",
       "      <td>39.016026</td>\n",
       "      <td>89.706728</td>\n",
       "    </tr>\n",
       "    <tr>\n",
       "      <th>1</th>\n",
       "      <td>VEA</td>\n",
       "      <td>66.907322</td>\n",
       "      <td>37.365118</td>\n",
       "    </tr>\n",
       "    <tr>\n",
       "      <th>2</th>\n",
       "      <td>VWO</td>\n",
       "      <td>109.347192</td>\n",
       "      <td>36.580729</td>\n",
       "    </tr>\n",
       "  </tbody>\n",
       "</table>\n",
       "</div>"
      ],
      "text/plain": [
       "  Name      Number      Price\n",
       "0  VTI   39.016026  89.706728\n",
       "1  VEA   66.907322  37.365118\n",
       "2  VWO  109.347192  36.580729"
      ]
     },
     "execution_count": 2,
     "metadata": {},
     "output_type": "execute_result"
    }
   ],
   "source": []
  }
 ],
 "metadata": {
  "kernelspec": {
   "display_name": "Python 2",
   "language": "python",
   "name": "python2"
  },
  "language_info": {
   "codemirror_mode": {
    "name": "ipython",
    "version": 2
   },
   "file_extension": ".py",
   "mimetype": "text/x-python",
   "name": "python",
   "nbconvert_exporter": "python",
   "pygments_lexer": "ipython2",
   "version": "2.7.10"
  }
 },
 "nbformat": 4,
 "nbformat_minor": 2
}
